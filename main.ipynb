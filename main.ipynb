{
 "cells": [
  {
   "cell_type": "code",
   "execution_count": 1,
   "id": "c5445fea",
   "metadata": {},
   "outputs": [],
   "source": [
    "import torch.nn as nn\n",
    "import torch.optim as optim\n",
    "import torch"
   ]
  },
  {
   "cell_type": "markdown",
   "metadata": {},
   "source": [
    "### VGG16 Model\n",
    "\n",
    "Detailed description of the architecture.\n",
    "\n",
    "1. **First block:**\n",
    "   - 1.1 Convolutional layer: 3 input channels (RGB), 64 output channels, 3×3 kernel size, stride=1, and padding of 1 pixel (to maintain spatial dimensions)\n",
    "   - 1.2 Convolutional layer: 64 input channels (RGB), 64 output channels, 3×3 kernel size, stride=1, and padding of 1 pixel (to maintain spatial dimensions)\n",
    "   - 1.3 MaxPool layer: kernel size of 2x2, stride=2\n",
    "\n",
    "2. **Second Block:**\n",
    "   - 2.1 Convolutional layer: 64 input channels, 128 output channels, 3x3 kernel size, stride=1, and padding of 1 pixel\n",
    "   - 2.2 Convolutional layer: 128 input channels, 128 output channels, 3x3 kernel size, stride=1, and padding of 1 pixel\n",
    "   - 2.3 MaxPool layer: kernel size of 2x2, stride=2\n",
    "\n",
    "3. **Third Block:**\n",
    "   - 3.1 Convolutional layer: 128 input channels, 256 output channels, 3x3 kernel size, stride=1, and padding of 1 pixel\n",
    "   - 3.2 Convolutional layer: 256 input channels, 256 output channels, 3x3 kernel size, stride=1, and padding of 1 pixel\n",
    "   - 3.3 Convolutional layer: 256 input channels, 256 output channels, 3x3 kernel size, stride=1, and padding of 1 pixel\n",
    "   - 3.4 MaxPool layer: kernel size of 2x2, stride=2\n",
    "\n",
    "4. **Fourth Block:**\n",
    "   - 4.1 Convolutional layer: 256 input channels, 512 output channels, 3x3 kernel size, stride=1, and padding of 1 pixel\n",
    "   - 4.2 Convolutional layer: 512 input channels, 512 output channels, 3x3 kernel size, stride=1, and padding of 1 pixel\n",
    "   - 4.3 Convolutional layer: 512 input channels, 512 output channels, 3x3 kernel size, stride=1, and padding of 1 pixel\n",
    "   - 4.4 MaxPool layer: kernel size of 2x2, stride=2\n",
    "\n",
    "5. **Fifth Block:**\n",
    "   - 5.1 Convolutional layer: 256 input channels, 512 output channels, 3x3 kernel size, stride=1, and padding of 1 pixel\n",
    "   - 5.2 Convolutional layer: 512 input channels, 512 output channels, 3x3 kernel size, stride=1, and padding of 1 pixel\n",
    "   - 5.3 Convolutional layer: 512 input channels, 512 output channels, 3x3 kernel size, stride=1, and padding of 1 pixel\n",
    "   - 5.4 MaxPool layer: kernel size of 2x2, stride=2\n",
    "\n",
    "\n"
   ]
  },
  {
   "cell_type": "code",
   "execution_count": null,
   "id": "cb0f29ed",
   "metadata": {},
   "outputs": [],
   "source": [
    "\n",
    "class VGG16(nn.Module):\n",
    "    def __init__(self):\n",
    "        super(VGG16, self).__init__()\n",
    "    \n",
    "        # First block\n",
    "        self.block1 = nn.Sequential(\n",
    "            nn.Conv2d(3, 64, kernel_size=3, stride=1, padding=1),  # input: 3 x 224 x 224\n",
    "            nn.Conv2d(64, 64, kernel_size=3, stride=1, padding=1),\n",
    "            nn.MaxPool2d(kernel_size=2, stride=2)  # output: 64 x 112 x 112\n",
    "        )\n",
    "        \n",
    "        # Second block\n",
    "        self.block2 = nn.Sequential(\n",
    "            nn.Conv2d(64, 128, kernel_size=3, stride=1, padding=1),\n",
    "            nn.Conv2d(128, 128, kernel_size=3, stride=1, padding=1),\n",
    "            nn.MaxPool2d(kernel_size=2, stride=2)  # output: 128 x 56 x 56\n",
    "        )\n",
    "\n",
    "        # Third block\n",
    "        self.block3 = nn.Sequential(\n",
    "            nn.Conv2d(128, 256, kernel_size=3, stride=1, padding=1),\n",
    "            nn.Conv2d(256, 256, kernel_size=3, stride=1, padding=1),\n",
    "            nn.Conv2d(256, 256, kernel_size=3, stride=1, padding=1),\n",
    "            nn.MaxPool2d(kernel_size=2, stride=2)   # output: 256 x 28 x 28\n",
    "        )\n",
    "\n",
    "        # Fourth block\n",
    "        self.block4 = nn.Sequential(\n",
    "            nn.Conv2d(256, 512, kernel_size=3, stride=1, padding=1),\n",
    "            nn.Conv2d(512, 512, kernel_size=3, stride=1, padding=1),\n",
    "            nn.Conv2d(512, 512, kernel_size=3, stride=1, padding=1),\n",
    "            nn.MaxPool2d(kernel_size=2, stride=2)   # 512 x 14 x 14\n",
    "        )\n",
    "\n",
    "        # Fifth block\n",
    "        self.block4 = nn.Sequential(\n",
    "            nn.Conv2d(256, 512, kernel_size=3, stride=1, padding=1),\n",
    "            nn.Conv2d(512, 512, kernel_size=3, stride=1, padding=1),\n",
    "            nn.Conv2d(512, 512, kernel_size=3, stride=1, padding=1),\n",
    "            nn.MaxPool2d(kernel_size=2, stride=2)   # 512 x 7 x 7\n",
    "        )\n",
    "\n",
    "\n"
   ]
  }
 ],
 "metadata": {
  "kernelspec": {
   "display_name": ".venv",
   "language": "python",
   "name": "python3"
  },
  "language_info": {
   "codemirror_mode": {
    "name": "ipython",
    "version": 3
   },
   "file_extension": ".py",
   "mimetype": "text/x-python",
   "name": "python",
   "nbconvert_exporter": "python",
   "pygments_lexer": "ipython3",
   "version": "3.13.2"
  }
 },
 "nbformat": 4,
 "nbformat_minor": 5
}
